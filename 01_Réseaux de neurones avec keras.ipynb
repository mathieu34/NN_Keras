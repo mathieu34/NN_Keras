{
 "cells": [
  {
   "cell_type": "markdown",
   "metadata": {},
   "source": [
    "<img src = \"images/3_logos.png\" width = 600, align = \"center\">\n",
    "<br>\n",
    "<h1 align=center>Réseaux de neurones avec Keras</h1>"
   ]
  },
  {
   "cell_type": "markdown",
   "metadata": {},
   "source": [
    "## Imports"
   ]
  },
  {
   "cell_type": "code",
   "execution_count": 1,
   "metadata": {},
   "outputs": [],
   "source": [
    "%matplotlib inline"
   ]
  },
  {
   "cell_type": "code",
   "execution_count": 3,
   "metadata": {},
   "outputs": [],
   "source": [
    "import matplotlib as mpl\n",
    "import matplotlib.pyplot as plt\n",
    "import numpy as np\n",
    "import os\n",
    "import pandas as pd\n",
    "import sklearn\n",
    "import sys\n",
    "import tensorflow as tf\n",
    "from tensorflow import keras\n",
    "import time"
   ]
  },
  {
   "cell_type": "markdown",
   "metadata": {},
   "source": [
    "## Exercice 1 – TensorFlow Playground"
   ]
  },
  {
   "cell_type": "markdown",
   "metadata": {},
   "source": [
    "[TensorFlow Playground](http://playground.tensorflow.org).\n",
    "\n",
    "- **Layers et patterns**: essayez d’entraîner le réseau de neurones par défaut en cliquant sur le bouton \"Exécuter\" (en haut à gauche). Remarquez comment il trouve rapidement une bonne solution pour la tâche de classification. Notez que les neurones de la première couche cachée ont appris des motifs simples, tandis que les neurones de la deuxième couche cachée ont appris à combiner les motifs simples de la première couche cachée en des motifs plus complexes. En général, plus il y a de couches, plus les motifs peuvent être complexes.\n",
    "\n",
    "- **Fonction d'activation**: essayez de remplacer la fonction d'activation Tanh par la fonction d'activation ReLU, puis entraînez à nouveau le réseau. Notez qu'il trouve une solution encore plus rapidement, mais cette fois, les limites sont linéaires. Cela est dû à la forme de la fonction ReLU.\n",
    "\n",
    "- **Minima locaux**: modifiez l’architecture du réseau pour n’avoir qu’une couche cachée avec trois neurones. Entraînez-le plusieurs fois (pour réinitialiser les poids du réseau, ajoutez et supprimez un neurone). Notez que le temps d’entraînement varie beaucoup et que parfois, il s’arrête sur un minimum local.\n",
    "\n",
    "- **Trop petit**: supprimez maintenant un neurone pour ne garder que 2. Notez que le réseau de neurones est maintenant incapable de trouver une bonne solution, même si vous essayez plusieurs fois. Le modèle a trop peu de paramètres et sous-complète systématiquement l'ensemble de formation.\n",
    "\n",
    "- **Assez grand**: ensuite, définissez un nombre de neurones à 8 et entraînez le réseau plusieurs fois. Notez qu'il est maintenant constamment rapide et ne reste jamais bloqué. Cela met en évidence une découverte importante de la théorie des réseaux de neurones: les grands réseaux de neurones ne se coincent presque jamais dans les minima locaux, et même lorsqu'ils le font, ces optima locaux sont presque aussi bons que l'optimum global. Cependant, ils peuvent rester bloqués sur de longs plateaux pendant longtemps.\n",
    "\n",
    "- **Gradients profonds et nuls**: changez maintenant le jeu de données en spirale (jeu de données en bas à droite sous \"DONNEES\"). Changez l'architecture du réseau pour avoir 4 couches cachées de 8 neurones chacune. Notez que l'entraînement prend beaucoup plus de temps et reste souvent bloqué sur des plateaux pendant de longues périodes. Notez également que les neurones situés dans les couches les plus hautes (c’est-à-dire à droite) ont tendance à évoluer plus rapidement que les neurones situés dans les couches les plus basses (c.-à-d. À gauche). Ce problème, appelé le problème des \"gradients disparus\", peut être résolu en utilisant une meilleure initialisation du poids et d'autres techniques, de meilleurs optimiseurs (tels que AdaGrad ou Adam) ou en utilisant la normalisation par lots.\n",
    "\n",
    "- **Ensuite**: jouez pendant au moins une heure quand vous avez le temps !"
   ]
  },
  {
   "cell_type": "markdown",
   "metadata": {},
   "source": [
    "## Exercice 2 – Classification d'images Fashion MNIST"
   ]
  },
  {
   "cell_type": "markdown",
   "metadata": {},
   "source": [
    "Charger le jeu de données fashion MNIST. Keras a un certain nombre de fonctions (dont load_data()) pour charger des jeux de données populaires dans `keras.datasets`. Le jeu de données est déjà divisé en un jeu d'apprentissage et un jeu de tests, mais il peut être utile de fractionner davantage le jeu d'apprentissage pour obtenir un jeu de validation(5000 echantillons):"
   ]
  },
  {
   "cell_type": "code",
   "execution_count": 85,
   "metadata": {},
   "outputs": [],
   "source": [
    "fashion_mnist = keras.datasets.fashion_mnist\n",
    "(X_train_full, y_train_full), (X_test, y_test) = fashion_mnist.load_data()\n",
    "X_valid, X_train = X_train_full[:5000], X_train_full[5000:]\n",
    "y_valid, y_train = y_train_full[:5000], y_train_full[5000:]"
   ]
  },
  {
   "cell_type": "markdown",
   "metadata": {},
   "source": [
    "Afficher la taille du jeu d'entrainement :"
   ]
  },
  {
   "cell_type": "code",
   "execution_count": 16,
   "metadata": {},
   "outputs": [
    {
     "data": {
      "text/plain": [
       "(55000, 28, 28)"
      ]
     },
     "execution_count": 16,
     "metadata": {},
     "output_type": "execute_result"
    }
   ],
   "source": [
    "X_train.shape"
   ]
  },
  {
   "cell_type": "markdown",
   "metadata": {},
   "source": [
    "Afficher la première ligne"
   ]
  },
  {
   "cell_type": "code",
   "execution_count": 37,
   "metadata": {},
   "outputs": [
    {
     "data": {
      "text/plain": [
       "array([[  0,   0,   0,   0,   0,   0,   0,   0,   0,   0,   0,   0,   0,\n",
       "          0,   0,   0,   0,   0,   0,   1,   0,   0,   0,   0,   0,   0,\n",
       "          0,   0],\n",
       "       [  0,   0,   0,   0,   0,   0,   0,   0,   0,   0,   0,  44, 127,\n",
       "        182, 185, 161, 120,  55,   0,   0,   0,   0,   0,   0,   0,   0,\n",
       "          0,   0],\n",
       "       [  0,   0,   0,   0,   0,   0,   0,   0,   0,  42, 198, 251, 255,\n",
       "        251, 249, 247, 255, 252, 214, 100,   0,   0,   0,   0,   0,   0,\n",
       "          0,   0],\n",
       "       [  0,   0,   0,   0,   0,   0,   2,   0,   0, 233, 252, 237, 239,\n",
       "        234, 237, 235, 237, 237, 254, 227,   0,   0,   0,   0,   1,   0,\n",
       "          0,   0],\n",
       "       [  0,   0,   0,   0,   0,   2,   0,   0,  16, 210, 225, 215, 175,\n",
       "        217, 216, 193, 196, 226, 221, 209,  50,   0,   0,   2,   0,   0,\n",
       "          0,   0],\n",
       "       [  0,   0,   0,   0,   2,   0,   0, 199, 229, 232, 230, 245, 204,\n",
       "        219, 253, 245, 207, 194, 223, 231, 236, 235,   0,   0,   3,   0,\n",
       "          0,   0],\n",
       "       [  0,   0,   0,   0,   1,   0, 137, 235, 204, 209, 201, 209, 234,\n",
       "        190, 234, 218, 215, 238, 239, 204, 189, 224, 154,   0,   0,   0,\n",
       "          0,   0],\n",
       "       [  0,   0,   0,   0,   0,   0, 194, 201, 200, 209, 202, 193, 205,\n",
       "        194, 183, 218, 231, 197, 172, 181, 193, 205, 199,   0,   0,   0,\n",
       "          0,   0],\n",
       "       [  0,   0,   0,   0,   0,   3, 212, 203, 188, 189, 196, 198, 198,\n",
       "        201, 196, 217, 179, 167, 183, 217, 197, 202, 219,  30,   0,   0,\n",
       "          0,   0],\n",
       "       [  0,   0,   0,   0,   0,  34, 225, 200, 194, 190, 188, 192, 196,\n",
       "        192, 170, 202, 190, 201, 195, 200, 201, 209, 227,  50,   0,   0,\n",
       "          0,   0],\n",
       "       [  0,   0,   0,   0,   0,  68, 225, 210, 211, 198, 192, 196, 204,\n",
       "        196, 181, 212, 197, 195, 192, 206, 220, 210, 229,  93,   0,   0,\n",
       "          0,   0],\n",
       "       [  0,   0,   0,   0,   0, 111, 223, 227, 253, 209, 196, 204, 211,\n",
       "        206, 183, 216, 206, 210, 203, 215, 244, 224, 227, 150,   0,   0,\n",
       "          0,   0],\n",
       "       [  0,   0,   0,   0,   0, 139, 225, 224, 255, 202, 206, 212, 209,\n",
       "        211, 190, 213, 202, 207, 206, 222, 255, 230, 220, 190,   0,   0,\n",
       "          0,   0],\n",
       "       [  0,   0,   0,   0,   0, 180, 226, 224, 255, 199, 204, 207, 214,\n",
       "        214, 190, 216, 206, 203, 205, 219, 243, 224, 214, 234,   0,   0,\n",
       "          0,   0],\n",
       "       [  0,   0,   0,   0,   0, 225, 223, 228, 254, 209, 206, 208, 213,\n",
       "        210, 191, 215, 207, 204, 208, 211, 249, 226, 214, 255,  38,   0,\n",
       "          0,   0],\n",
       "       [  0,   0,   0,   0,   0, 250, 232, 240, 239, 211, 203, 209, 205,\n",
       "        211, 197, 215, 208, 208, 214, 213, 239, 231, 219, 255,  81,   0,\n",
       "          0,   0],\n",
       "       [  0,   0,   0,   0,   0, 248, 236, 247, 240, 203, 200, 208, 206,\n",
       "        214, 193, 213, 212, 208, 212, 211, 243, 242, 225, 254,  66,   0,\n",
       "          0,   0],\n",
       "       [  0,   0,   0,   0,   0, 247, 230, 252, 226, 199, 211, 202, 211,\n",
       "        213, 182, 213, 212, 206, 202, 219, 207, 247, 222, 237, 104,   0,\n",
       "          0,   0],\n",
       "       [  0,   0,   0,   0,  10, 244, 219, 250, 205, 199, 209, 202, 209,\n",
       "        211, 189, 214, 206, 210, 200, 212, 154, 240, 208, 219, 140,   0,\n",
       "          0,   0],\n",
       "       [  0,   0,   0,   0,  21, 255, 222, 238, 184, 210, 192, 206, 209,\n",
       "        210, 189, 213, 211, 209, 192, 228, 155, 226, 238, 241, 166,   0,\n",
       "          0,   0],\n",
       "       [  0,   0,   0,   0,  37, 245, 226, 241, 150, 197, 189, 204, 209,\n",
       "        210, 183, 213, 213, 201, 184, 215, 146, 216, 236, 225, 154,   0,\n",
       "          0,   0],\n",
       "       [  0,   0,   0,   0,  58, 239, 227, 255, 158, 193, 195, 204, 209,\n",
       "        213, 180, 207, 217, 199, 194, 211, 158, 219, 236, 216, 151,   0,\n",
       "          0,   0],\n",
       "       [  0,   0,   0,   0,  68, 233, 226, 243, 139, 200, 193, 205, 210,\n",
       "        208, 180, 205, 212, 203, 196, 216, 157, 179, 255, 216, 155,   0,\n",
       "          0,   0],\n",
       "       [  0,   0,   0,   0,  81, 225, 224, 211, 138, 219, 185, 201, 213,\n",
       "        207, 197, 226, 212, 200, 190, 215, 183,  90, 255, 211, 147,   0,\n",
       "          0,   0],\n",
       "       [  0,   0,   0,   0,  91, 210, 230, 158, 114, 205, 187, 208, 209,\n",
       "        206, 193, 210, 211, 204, 195, 204, 181,  23, 255, 213, 158,   0,\n",
       "          0,   0],\n",
       "       [  0,   0,   0,   0,  87, 205, 232, 109, 164, 255, 214, 224, 222,\n",
       "        210, 197, 214, 225, 222, 211, 220, 217,   0, 234, 216, 169,   0,\n",
       "          0,   0],\n",
       "       [  0,   0,   0,   0,  92, 213, 232, 146,   5, 134, 151, 162, 170,\n",
       "        183, 182, 164, 166, 178, 162, 156,  98,   0, 240, 225, 210,   0,\n",
       "          0,   0],\n",
       "       [  0,   0,   0,   0,  43, 164, 206, 141,   0,   0,   0,   0,   0,\n",
       "          0,   0,   0,   0,   0,   0,   0,   0,   0, 127, 125,  76,   0,\n",
       "          0,   0]], dtype=uint8)"
      ]
     },
     "execution_count": 37,
     "metadata": {},
     "output_type": "execute_result"
    }
   ],
   "source": [
    "X_train[0] #matrice ou tableau à 28 dimensions. Differents nombres = couleur d'un pixel "
   ]
  },
  {
   "cell_type": "markdown",
   "metadata": {},
   "source": [
    "Afficher l'echantilon en utilisant la fonction `imshow()` avec un color map en `'binary'`"
   ]
  },
  {
   "cell_type": "code",
   "execution_count": 47,
   "metadata": {},
   "outputs": [
    {
     "data": {
      "image/png": "[encoded data removed]",
      "text/plain": [
       "<Figure size 720x720 with 25 Axes>"
      ]
     },
     "metadata": {},
     "output_type": "display_data"
    }
   ],
   "source": [
    "plt.figure(figsize=(10,10))\n",
    "for i in range(25):\n",
    "    plt.subplot(5,5,i+1)\n",
    "    plt.xticks([])\n",
    "    plt.yticks([])\n",
    "    plt.imshow(X_train[i], cmap=plt.cm.binary)\n",
    "plt.show()"
   ]
  },
  {
   "cell_type": "markdown",
   "metadata": {},
   "source": [
    "Afficher les différentes valeurs des labels"
   ]
  },
  {
   "cell_type": "code",
   "execution_count": 46,
   "metadata": {},
   "outputs": [
    {
     "data": {
      "text/plain": [
       "array([4, 0, 7, ..., 3, 0, 5], dtype=uint8)"
      ]
     },
     "execution_count": 46,
     "metadata": {},
     "output_type": "execute_result"
    }
   ],
   "source": [
    "y_train"
   ]
  },
  {
   "cell_type": "markdown",
   "metadata": {},
   "source": [
    "Noms des classes :"
   ]
  },
  {
   "cell_type": "code",
   "execution_count": 44,
   "metadata": {},
   "outputs": [],
   "source": [
    "class_names = [\"T-shirt/top\", \"Trouser\", \"Pullover\", \"Dress\", \"Coat\",\n",
    "               \"Sandal\", \"Shirt\", \"Sneaker\", \"Bag\", \"Ankle boot\"]"
   ]
  },
  {
   "cell_type": "markdown",
   "metadata": {},
   "source": [
    "La première image correspond donc à un coat :"
   ]
  },
  {
   "cell_type": "code",
   "execution_count": 45,
   "metadata": {},
   "outputs": [
    {
     "data": {
      "image/png": "[encoded data removed]",
      "text/plain": [
       "<Figure size 432x288 with 2 Axes>"
      ]
     },
     "metadata": {
      "needs_background": "light"
     },
     "output_type": "display_data"
    }
   ],
   "source": [
    "plt.figure()\n",
    "plt.imshow(X_train[0])\n",
    "plt.colorbar()\n",
    "plt.xlabel(class_names[y_train[0]])\n",
    "plt.show()"
   ]
  },
  {
   "cell_type": "markdown",
   "metadata": {},
   "source": [
    "Afficher les 50 premières images (utiliser des subplots en adaptant la taille de la figure)"
   ]
  },
  {
   "cell_type": "code",
   "execution_count": null,
   "metadata": {},
   "outputs": [],
   "source": [
    "plt.figure(figsize=(15,15))\n",
    "for i in range(50):\n",
    "    plt.subplot(10,10,i+1)\n",
    "    plt.xticks([])\n",
    "    plt.yticks([])\n",
    "    plt.imshow(X_train[i], cmap=plt.cm.binary)\n",
    "plt.show()"
   ]
  },
  {
   "cell_type": "markdown",
   "metadata": {},
   "source": [
    "### Construction d'un réseau de neurones de classification avec Keras"
   ]
  },
  {
   "cell_type": "markdown",
   "metadata": {},
   "source": [
    "### 2.1)\n",
    "Construire un modèle séquentiel (keras.models.Sequential),(voir [doc](https://keras.io/models/about-keras-models/) ), sans aucun argument, puis ajoutez-y quatre couches en utilisant la méthode add ():\n",
    " - une couche Flatten (keras.layers.Flatten) pour convertir chaque image 28x28 en une rangée unique de 784 pixels. Comme il s'agit de la première couche du modèle, il faut spécifier l'argument input_shape en laissant de côté la taille du lot: [28, 28].\n",
    "- une couche dense (keras.layers.Dense) avec 300 neurones (unités aka) et la fonction d'activation \"relu\".\n",
    "- Une autre couche dense avec 100 neurones, également avec la fonction d'activation \"relu\".\n",
    "- Une couche dense finale avec 10 neurones (un par classe) et la fonction d'activation \"softmax\" garantissant que la somme de toutes les probabilités de classe estimées pour chaque image est égale à 1."
   ]
  },
  {
   "cell_type": "code",
   "execution_count": 86,
   "metadata": {},
   "outputs": [],
   "source": [
    "model = keras.Sequential()"
   ]
  },
  {
   "cell_type": "code",
   "execution_count": 87,
   "metadata": {},
   "outputs": [],
   "source": [
    "model.add(keras.layers.Flatten(input_shape=(28, 28)))"
   ]
  },
  {
   "cell_type": "code",
   "execution_count": 88,
   "metadata": {},
   "outputs": [],
   "source": [
    "model.add(keras.layers.Dense(300, activation=tf.nn.relu))"
   ]
  },
  {
   "cell_type": "code",
   "execution_count": 89,
   "metadata": {},
   "outputs": [],
   "source": [
    "model.add(keras.layers.Dense(100, activation=tf.nn.relu))"
   ]
  },
  {
   "cell_type": "code",
   "execution_count": 90,
   "metadata": {},
   "outputs": [],
   "source": [
    "model.add(keras.layers.Dense(10, activation=tf.nn.softmax))"
   ]
  },
  {
   "cell_type": "markdown",
   "metadata": {},
   "source": [
    "### 2.2)\n",
    "Utiliser la méthode `summary()` pour étudier l'output."
   ]
  },
  {
   "cell_type": "code",
   "execution_count": 10,
   "metadata": {},
   "outputs": [
    {
     "name": "stdout",
     "output_type": "stream",
     "text": [
      "_________________________________________________________________\n",
      "Layer (type)                 Output Shape              Param #   \n",
      "=================================================================\n",
      "flatten (Flatten)            (None, 784)               0         \n",
      "_________________________________________________________________\n",
      "dense (Dense)                (None, 300)               235500    \n",
      "_________________________________________________________________\n",
      "dense_1 (Dense)              (None, 300)               90300     \n",
      "_________________________________________________________________\n",
      "dense_2 (Dense)              (None, 100)               30100     \n",
      "_________________________________________________________________\n",
      "dense_3 (Dense)              (None, 10)                1010      \n",
      "=================================================================\n",
      "Total params: 356,910\n",
      "Trainable params: 356,910\n",
      "Non-trainable params: 0\n",
      "_________________________________________________________________\n"
     ]
    }
   ],
   "source": [
    "model.summary()"
   ]
  },
  {
   "cell_type": "markdown",
   "metadata": {},
   "source": [
    "### 2.3) Compilation\n",
    "Une fois le modèle créé, il faut utiliser la méthode `compile ()` pour spécifier la fonction `loss` et l'` optimiseur` à utiliser. On utilisera \"sparse_categorical_crossentropy\" pour le loss et l'optimiseur \"sgd\" (descente de gradient stochastique), spécifier également `metrics` à `accuracy`"
   ]
  },
  {
   "cell_type": "code",
   "execution_count": 95,
   "metadata": {},
   "outputs": [],
   "source": [
    "#A loss function (or objective function, or optimization score function) is one of the three parameters (the first one, actually) required to compile a model:\n",
    "model.compile(optimizer='sgd', \n",
    "              loss='sparse_categorical_crossentropy', #If your targets are integers, use sparse_categorical_crossentropy. If your targets are one-hot encoded, use categorical_crossentropy.\n",
    "              metrics=['accuracy'])"
   ]
  },
  {
   "cell_type": "code",
   "execution_count": null,
   "metadata": {},
   "outputs": [],
   "source": []
  },
  {
   "cell_type": "code",
   "execution_count": null,
   "metadata": {},
   "outputs": [],
   "source": []
  },
  {
   "cell_type": "markdown",
   "metadata": {},
   "source": [
    "### 2.4)\n",
    "Entrainer le modèle en utilisant la méthode `fit()`<br/>\n",
    "**Remarque**: la méthode `fit ()`retourne un objet `History`contenant des statistiques d'entraînement. Il peut être utile de conserver le résultat dans une variable : (history = model.fit (...))."
   ]
  },
  {
   "cell_type": "code",
   "execution_count": 92,
   "metadata": {},
   "outputs": [
    {
     "name": "stdout",
     "output_type": "stream",
     "text": [
      "Train on 55000 samples, validate on 5000 samples\n",
      "Epoch 1/10\n",
      "55000/55000 [==============================] - 3s 60us/step - loss: 14.4373 - acc: 0.1042 - val_loss: 14.5289 - val_acc: 0.0986\n",
      "Epoch 2/10\n",
      "55000/55000 [==============================] - 3s 54us/step - loss: 14.5036 - acc: 0.1002 - val_loss: 14.5289 - val_acc: 0.0986\n",
      "Epoch 3/10\n",
      "55000/55000 [==============================] - 3s 57us/step - loss: 14.5036 - acc: 0.1002 - val_loss: 14.5289 - val_acc: 0.0986\n",
      "Epoch 4/10\n",
      "55000/55000 [==============================] - 3s 56us/step - loss: 14.5036 - acc: 0.1002 - val_loss: 14.5289 - val_acc: 0.0986\n",
      "Epoch 5/10\n",
      "55000/55000 [==============================] - 3s 59us/step - loss: 14.5036 - acc: 0.1002 - val_loss: 14.5289 - val_acc: 0.0986\n",
      "Epoch 6/10\n",
      "55000/55000 [==============================] - 3s 56us/step - loss: 14.5036 - acc: 0.1002 - val_loss: 14.5289 - val_acc: 0.0986\n",
      "Epoch 7/10\n",
      "55000/55000 [==============================] - 3s 52us/step - loss: 14.5036 - acc: 0.1002 - val_loss: 14.5289 - val_acc: 0.0986\n",
      "Epoch 8/10\n",
      "55000/55000 [==============================] - 3s 54us/step - loss: 14.5036 - acc: 0.1002 - val_loss: 14.5289 - val_acc: 0.0986\n",
      "Epoch 9/10\n",
      "55000/55000 [==============================] - 3s 52us/step - loss: 14.5036 - acc: 0.1002 - val_loss: 14.5289 - val_acc: 0.0986\n",
      "Epoch 10/10\n",
      "55000/55000 [==============================] - 3s 51us/step - loss: 14.5036 - acc: 0.1002 - val_loss: 14.5289 - val_acc: 0.0986\n"
     ]
    }
   ],
   "source": [
    "history=model.fit(X_train, y_train, epochs=10, validation_data=(X_valid,y_valid)) "
   ]
  },
  {
   "cell_type": "code",
   "execution_count": null,
   "metadata": {},
   "outputs": [],
   "source": []
  },
  {
   "cell_type": "code",
   "execution_count": null,
   "metadata": {},
   "outputs": [],
   "source": []
  },
  {
   "cell_type": "markdown",
   "metadata": {},
   "source": [
    "### 2.5)\n",
    "Construire un dataframe avec l'objet history puis en faire une représenatation graphique (méthode plot())<br>\n",
    "*Conseils* : \n",
    "- Afficher la grille et limiter les ordonnées à l'intervalle \\[0, 1\\]\n",
    "- Il peut être utile de créer une fonction."
   ]
  },
  {
   "cell_type": "code",
   "execution_count": 18,
   "metadata": {},
   "outputs": [
    {
     "data": {
      "text/html": [
       "<div>\n",
       "<style scoped>\n",
       "    .dataframe tbody tr th:only-of-type {\n",
       "        vertical-align: middle;\n",
       "    }\n",
       "\n",
       "    .dataframe tbody tr th {\n",
       "        vertical-align: top;\n",
       "    }\n",
       "\n",
       "    .dataframe thead th {\n",
       "        text-align: right;\n",
       "    }\n",
       "</style>\n",
       "<table border=\"1\" class=\"dataframe\">\n",
       "  <thead>\n",
       "    <tr style=\"text-align: right;\">\n",
       "      <th></th>\n",
       "      <th>val_loss</th>\n",
       "      <th>val_acc</th>\n",
       "      <th>loss</th>\n",
       "      <th>acc</th>\n",
       "    </tr>\n",
       "  </thead>\n",
       "  <tbody>\n",
       "    <tr>\n",
       "      <th>0</th>\n",
       "      <td>14.528851</td>\n",
       "      <td>0.0986</td>\n",
       "      <td>14.503460</td>\n",
       "      <td>0.100164</td>\n",
       "    </tr>\n",
       "    <tr>\n",
       "      <th>1</th>\n",
       "      <td>14.528851</td>\n",
       "      <td>0.0986</td>\n",
       "      <td>14.504234</td>\n",
       "      <td>0.100127</td>\n",
       "    </tr>\n",
       "    <tr>\n",
       "      <th>2</th>\n",
       "      <td>14.528851</td>\n",
       "      <td>0.0986</td>\n",
       "      <td>14.504234</td>\n",
       "      <td>0.100127</td>\n",
       "    </tr>\n",
       "    <tr>\n",
       "      <th>3</th>\n",
       "      <td>14.528851</td>\n",
       "      <td>0.0986</td>\n",
       "      <td>14.504234</td>\n",
       "      <td>0.100127</td>\n",
       "    </tr>\n",
       "    <tr>\n",
       "      <th>4</th>\n",
       "      <td>14.528851</td>\n",
       "      <td>0.0986</td>\n",
       "      <td>14.504234</td>\n",
       "      <td>0.100127</td>\n",
       "    </tr>\n",
       "    <tr>\n",
       "      <th>5</th>\n",
       "      <td>14.528851</td>\n",
       "      <td>0.0986</td>\n",
       "      <td>14.504234</td>\n",
       "      <td>0.100127</td>\n",
       "    </tr>\n",
       "    <tr>\n",
       "      <th>6</th>\n",
       "      <td>14.528851</td>\n",
       "      <td>0.0986</td>\n",
       "      <td>14.504234</td>\n",
       "      <td>0.100127</td>\n",
       "    </tr>\n",
       "    <tr>\n",
       "      <th>7</th>\n",
       "      <td>14.528851</td>\n",
       "      <td>0.0986</td>\n",
       "      <td>14.504234</td>\n",
       "      <td>0.100127</td>\n",
       "    </tr>\n",
       "    <tr>\n",
       "      <th>8</th>\n",
       "      <td>14.528851</td>\n",
       "      <td>0.0986</td>\n",
       "      <td>14.504234</td>\n",
       "      <td>0.100127</td>\n",
       "    </tr>\n",
       "    <tr>\n",
       "      <th>9</th>\n",
       "      <td>14.528851</td>\n",
       "      <td>0.0986</td>\n",
       "      <td>14.504234</td>\n",
       "      <td>0.100127</td>\n",
       "    </tr>\n",
       "  </tbody>\n",
       "</table>\n",
       "</div>"
      ],
      "text/plain": [
       "    val_loss  val_acc       loss       acc\n",
       "0  14.528851   0.0986  14.503460  0.100164\n",
       "1  14.528851   0.0986  14.504234  0.100127\n",
       "2  14.528851   0.0986  14.504234  0.100127\n",
       "3  14.528851   0.0986  14.504234  0.100127\n",
       "4  14.528851   0.0986  14.504234  0.100127\n",
       "5  14.528851   0.0986  14.504234  0.100127\n",
       "6  14.528851   0.0986  14.504234  0.100127\n",
       "7  14.528851   0.0986  14.504234  0.100127\n",
       "8  14.528851   0.0986  14.504234  0.100127\n",
       "9  14.528851   0.0986  14.504234  0.100127"
      ]
     },
     "execution_count": 18,
     "metadata": {},
     "output_type": "execute_result"
    }
   ],
   "source": [
    "df=pd.DataFrame(history.history)\n",
    "df"
   ]
  },
  {
   "cell_type": "code",
   "execution_count": 56,
   "metadata": {},
   "outputs": [
    {
     "data": {
      "image/png": "[encoded data removed]",
      "text/plain": [
       "<Figure size 432x288 with 1 Axes>"
      ]
     },
     "metadata": {
      "needs_background": "light"
     },
     "output_type": "display_data"
    }
   ],
   "source": [
    "plt.plot(df) #colonnes utilisées : loss and acc.\n",
    "plt.legend(['loss', 'Accuracy'], loc='upper right')\n",
    "plt.xlabel('Epochs')\n",
    "plt.ylabel('Accuracy/loss')\n",
    "plt.grid()\n",
    "plt.ylim(0,15)\n",
    "plt.show()"
   ]
  },
  {
   "cell_type": "code",
   "execution_count": null,
   "metadata": {},
   "outputs": [],
   "source": []
  },
  {
   "cell_type": "markdown",
   "metadata": {},
   "source": [
    "### 2.6)\n",
    "Relancer `model.fit()` , et remarquer qu'il reprend là où il s'était arrété."
   ]
  },
  {
   "cell_type": "code",
   "execution_count": 105,
   "metadata": {},
   "outputs": [
    {
     "name": "stdout",
     "output_type": "stream",
     "text": [
      "Train on 55000 samples, validate on 5000 samples\n",
      "Epoch 1/15\n",
      "55000/55000 [==============================] - 3s 56us/step - loss: 14.5036 - acc: 0.1002 - val_loss: 14.5289 - val_acc: 0.0986\n",
      "Epoch 2/15\n",
      "55000/55000 [==============================] - 3s 56us/step - loss: 14.5036 - acc: 0.1002 - val_loss: 14.5289 - val_acc: 0.0986\n",
      "Epoch 3/15\n",
      "55000/55000 [==============================] - 3s 58us/step - loss: 14.5036 - acc: 0.1002 - val_loss: 14.5289 - val_acc: 0.0986\n",
      "Epoch 4/15\n",
      "55000/55000 [==============================] - 3s 56us/step - loss: 14.5036 - acc: 0.1002 - val_loss: 14.5289 - val_acc: 0.0986\n",
      "Epoch 5/15\n",
      "55000/55000 [==============================] - 3s 55us/step - loss: 14.5036 - acc: 0.1002 - val_loss: 14.5289 - val_acc: 0.0986\n",
      "Epoch 6/15\n",
      "55000/55000 [==============================] - 3s 58us/step - loss: 14.5036 - acc: 0.1002 - val_loss: 14.5289 - val_acc: 0.0986\n",
      "Epoch 7/15\n",
      "55000/55000 [==============================] - 3s 57us/step - loss: 14.5036 - acc: 0.1002 - val_loss: 14.5289 - val_acc: 0.0986\n",
      "Epoch 8/15\n",
      "55000/55000 [==============================] - 3s 57us/step - loss: 14.5036 - acc: 0.1002 - val_loss: 14.5289 - val_acc: 0.0986\n",
      "Epoch 9/15\n",
      "55000/55000 [==============================] - 3s 55us/step - loss: 14.5036 - acc: 0.1002 - val_loss: 14.5289 - val_acc: 0.0986\n",
      "Epoch 10/15\n",
      "55000/55000 [==============================] - 3s 56us/step - loss: 14.5036 - acc: 0.1002 - val_loss: 14.5289 - val_acc: 0.0986\n",
      "Epoch 11/15\n",
      "55000/55000 [==============================] - 3s 57us/step - loss: 14.5036 - acc: 0.1002 - val_loss: 14.5289 - val_acc: 0.0986\n",
      "Epoch 12/15\n",
      "55000/55000 [==============================] - 3s 54us/step - loss: 14.5036 - acc: 0.1002 - val_loss: 14.5289 - val_acc: 0.0986\n",
      "Epoch 13/15\n",
      "55000/55000 [==============================] - 3s 54us/step - loss: 14.5036 - acc: 0.1002 - val_loss: 14.5289 - val_acc: 0.0986\n",
      "Epoch 14/15\n",
      "55000/55000 [==============================] - 3s 54us/step - loss: 14.5036 - acc: 0.1002 - val_loss: 14.5289 - val_acc: 0.0986\n",
      "Epoch 15/15\n",
      "55000/55000 [==============================] - 3s 55us/step - loss: 14.5036 - acc: 0.1002 - val_loss: 14.5289 - val_acc: 0.0986\n"
     ]
    },
    {
     "data": {
      "text/plain": [
       "<tensorflow.python.keras.callbacks.History at 0x19b19208a58>"
      ]
     },
     "execution_count": 105,
     "metadata": {},
     "output_type": "execute_result"
    }
   ],
   "source": [
    "model.fit(X_train, y_train, epochs=15, validation_data=(X_valid,y_valid)) #epochs number : number of an entire dataset is passed both forward and backward through the neural network only. "
   ]
  },
  {
   "cell_type": "code",
   "execution_count": null,
   "metadata": {},
   "outputs": [],
   "source": []
  },
  {
   "cell_type": "code",
   "execution_count": null,
   "metadata": {},
   "outputs": [],
   "source": []
  },
  {
   "cell_type": "markdown",
   "metadata": {},
   "source": [
    "### 2.7)\n",
    "Evaluer le modèle avec la méthode `evaluate()`(as-t-on précision autour de 80% ?)"
   ]
  },
  {
   "cell_type": "code",
   "execution_count": 107,
   "metadata": {},
   "outputs": [
    {
     "name": "stdout",
     "output_type": "stream",
     "text": [
      "10000/10000 [==============================] - 0s 28us/step\n",
      "Test accuracy: 0.1\n"
     ]
    }
   ],
   "source": [
    "test_loss, test_acc = model.evaluate(X_test, y_test)\n",
    "\n",
    "print('Test accuracy:', test_acc)"
   ]
  },
  {
   "cell_type": "code",
   "execution_count": null,
   "metadata": {},
   "outputs": [],
   "source": []
  },
  {
   "cell_type": "code",
   "execution_count": null,
   "metadata": {},
   "outputs": [],
   "source": []
  },
  {
   "cell_type": "markdown",
   "metadata": {},
   "source": [
    "### 2.8) Prédiction\n",
    "Définir X_new par les 10 premières instances du jeu de tests. Utiliser la méthode de prédict() du modèle pour estimer la probabilité de chaque classe pour chaque instance (arrondir les résultats au 100ème):"
   ]
  },
  {
   "cell_type": "code",
   "execution_count": 104,
   "metadata": {},
   "outputs": [
    {
     "data": {
      "text/plain": [
       "(10, 28, 28)"
      ]
     },
     "execution_count": 104,
     "metadata": {},
     "output_type": "execute_result"
    }
   ],
   "source": [
    "X_new = X_test[0:10] #10 arrays de dimensions 28/28. \n",
    "X_new.shape"
   ]
  },
  {
   "cell_type": "code",
   "execution_count": 26,
   "metadata": {},
   "outputs": [
    {
     "data": {
      "text/plain": [
       "array([[0., 0., 0., 0., 0., 0., 1., 0., 0., 0.],\n",
       "       [0., 0., 0., 0., 0., 0., 1., 0., 0., 0.],\n",
       "       [0., 0., 0., 0., 0., 0., 1., 0., 0., 0.],\n",
       "       [0., 0., 0., 0., 0., 0., 1., 0., 0., 0.],\n",
       "       [0., 0., 0., 0., 0., 0., 1., 0., 0., 0.],\n",
       "       [0., 0., 0., 0., 0., 0., 1., 0., 0., 0.],\n",
       "       [0., 0., 0., 0., 0., 0., 1., 0., 0., 0.],\n",
       "       [0., 0., 0., 0., 0., 0., 1., 0., 0., 0.],\n",
       "       [0., 0., 0., 0., 0., 0., 1., 0., 0., 0.],\n",
       "       [0., 0., 0., 0., 0., 0., 1., 0., 0., 0.]], dtype=float32)"
      ]
     },
     "execution_count": 26,
     "metadata": {},
     "output_type": "execute_result"
    }
   ],
   "source": [
    "predictions = model.predict(X_new) #predict array de dimension du nombre d'instances et de neurones de la dernière sous couche.\n",
    "predictions"
   ]
  },
  {
   "cell_type": "code",
   "execution_count": null,
   "metadata": {},
   "outputs": [],
   "source": []
  },
  {
   "cell_type": "markdown",
   "metadata": {},
   "source": [
    "### 2.9)\n",
    "Utilisez `np.argmax ()`pour obtenir l'ID de classe de la classe la plus probable pour chaque instance. *Utiliser 'axis=1'*"
   ]
  },
  {
   "cell_type": "code",
   "execution_count": 27,
   "metadata": {},
   "outputs": [
    {
     "data": {
      "text/plain": [
       "array([6, 6, 6, 6, 6, 6, 6, 6, 6, 6], dtype=int64)"
      ]
     },
     "execution_count": 27,
     "metadata": {},
     "output_type": "execute_result"
    }
   ],
   "source": [
    "np.argmax(predictions, axis=1) #Returns the indices of the maximum values along an axis."
   ]
  },
  {
   "cell_type": "code",
   "execution_count": null,
   "metadata": {},
   "outputs": [],
   "source": []
  },
  {
   "cell_type": "code",
   "execution_count": null,
   "metadata": {},
   "outputs": [],
   "source": []
  },
  {
   "cell_type": "markdown",
   "metadata": {},
   "source": [
    "### 2.10) méthode predict_classes\n",
    "\n",
    "Utiliser la méthode `predict_classes()` pour `X_new`. On devrait obtenir les mêmes résultats."
   ]
  },
  {
   "cell_type": "code",
   "execution_count": 28,
   "metadata": {},
   "outputs": [],
   "source": [
    "predictions_classes=model.predict_classes(X_new)"
   ]
  },
  {
   "cell_type": "code",
   "execution_count": 29,
   "metadata": {},
   "outputs": [
    {
     "data": {
      "text/plain": [
       "array([6, 6, 6, 6, 6, 6, 6, 6, 6, 6], dtype=int64)"
      ]
     },
     "execution_count": 29,
     "metadata": {},
     "output_type": "execute_result"
    }
   ],
   "source": [
    "predictions_classes"
   ]
  },
  {
   "cell_type": "code",
   "execution_count": null,
   "metadata": {},
   "outputs": [],
   "source": []
  },
  {
   "cell_type": "markdown",
   "metadata": {},
   "source": [
    "### 2.11)\n",
    "Utiliser `np.max()`pour déterminer une estimation de la probabilité associée à chaque classe."
   ]
  },
  {
   "cell_type": "code",
   "execution_count": 49,
   "metadata": {},
   "outputs": [
    {
     "data": {
      "text/plain": [
       "6"
      ]
     },
     "execution_count": 49,
     "metadata": {},
     "output_type": "execute_result"
    }
   ],
   "source": [
    "np.max(predictions_classes) # ? predicted_label = numpy.where(out_otuputs == numpy.max(out_otuputs))[0][0]\n",
    "                            #print(\"Predicted class : \", predicted_label)"
   ]
  },
  {
   "cell_type": "code",
   "execution_count": null,
   "metadata": {},
   "outputs": [],
   "source": []
  },
  {
   "cell_type": "code",
   "execution_count": null,
   "metadata": {},
   "outputs": [],
   "source": []
  },
  {
   "cell_type": "markdown",
   "metadata": {},
   "source": [
    "## Exercice 3 – Normalisation"
   ]
  },
  {
   "cell_type": "markdown",
   "metadata": {},
   "source": [
    "### 3.1)\n",
    "Pour l'utilisation de la descente de gradient, il est généralement préférable de s'assurer que les entités soient mises à l'échelle, de préférence avec une distribution normale. Uniformiser les valeurs des pixels et tester les performances du réseau.\n",
    "\n",
    "- *Utiliser `StandardScaler`de Scikit-Learn.\n",
    "- *Relancer la méthode fit()"
   ]
  },
  {
   "cell_type": "code",
   "execution_count": 50,
   "metadata": {},
   "outputs": [],
   "source": [
    "from sklearn.preprocessing import StandardScaler"
   ]
  },
  {
   "cell_type": "code",
   "execution_count": 110,
   "metadata": {},
   "outputs": [
    {
     "name": "stderr",
     "output_type": "stream",
     "text": [
      "C:\\Users\\Dell\\Anaconda3\\envs\\tensorflow\\lib\\site-packages\\sklearn\\utils\\validation.py:595: DataConversionWarning: Data with input dtype uint8 was converted to float64 by StandardScaler.\n",
      "  warnings.warn(msg, DataConversionWarning)\n",
      "C:\\Users\\Dell\\Anaconda3\\envs\\tensorflow\\lib\\site-packages\\sklearn\\utils\\validation.py:595: DataConversionWarning: Data with input dtype uint8 was converted to float64 by StandardScaler.\n",
      "  warnings.warn(msg, DataConversionWarning)\n",
      "C:\\Users\\Dell\\Anaconda3\\envs\\tensorflow\\lib\\site-packages\\sklearn\\utils\\validation.py:595: DataConversionWarning: Data with input dtype uint8 was converted to float64 by StandardScaler.\n",
      "  warnings.warn(msg, DataConversionWarning)\n",
      "C:\\Users\\Dell\\Anaconda3\\envs\\tensorflow\\lib\\site-packages\\sklearn\\utils\\validation.py:595: DataConversionWarning: Data with input dtype uint8 was converted to float64 by StandardScaler.\n",
      "  warnings.warn(msg, DataConversionWarning)\n"
     ]
    }
   ],
   "source": [
    "scaler = StandardScaler()  \n",
    "\n",
    "X_train = X_train.reshape(-1,1)  #-1 : new array shape is one line array with values number. (-1,1) : new array is one colum with inside n number of array (n = number of values)\n",
    "\n",
    "X_test = X_test.reshape(-1,1)\n",
    "\n",
    "scaler_train = scaler.fit(X_train)\n",
    "X_train = scaler_train.transform(X_train)\n",
    "\n",
    "X_train = X_train.reshape(-1,28,28)\n",
    "\n",
    "scaler_train = scaler.fit(X_test)\n",
    "X_test = scaler_train.transform(X_test)\n",
    "\n",
    "X_test = X_test.reshape(-1,28,28)\n",
    "\n",
    "#fit() just calculates the parameters (e.g. μ and σ in case of StandardScaler) and saves them as an internal objects state. Afterwards, you can call its transform() method to apply the transformation to a particular set of examples."
   ]
  },
  {
   "cell_type": "code",
   "execution_count": null,
   "metadata": {},
   "outputs": [],
   "source": []
  },
  {
   "cell_type": "markdown",
   "metadata": {},
   "source": [
    "### 3.2)\n",
    "Tracer les courbes d'apprentissage et comparer avec celles obtenues dans la première partie."
   ]
  },
  {
   "cell_type": "code",
   "execution_count": 53,
   "metadata": {},
   "outputs": [
    {
     "name": "stdout",
     "output_type": "stream",
     "text": [
      "Train on 55000 samples, validate on 5000 samples\n",
      "Epoch 1/15\n",
      "55000/55000 [==============================] - 4s 71us/step - loss: 0.2224 - acc: 0.9177 - val_loss: 3.6350 - val_acc: 0.7598\n",
      "Epoch 2/15\n",
      "55000/55000 [==============================] - 4s 69us/step - loss: 0.2124 - acc: 0.9219 - val_loss: 3.8708 - val_acc: 0.7486\n",
      "Epoch 3/15\n",
      "55000/55000 [==============================] - 4s 69us/step - loss: 0.2031 - acc: 0.9253 - val_loss: 4.0572 - val_acc: 0.7342\n",
      "Epoch 4/15\n",
      "55000/55000 [==============================] - 4s 69us/step - loss: 0.1940 - acc: 0.9299 - val_loss: 3.5674 - val_acc: 0.7676\n",
      "Epoch 5/15\n",
      "55000/55000 [==============================] - 4s 68us/step - loss: 0.1851 - acc: 0.9328 - val_loss: 3.9457 - val_acc: 0.7450\n",
      "Epoch 6/15\n",
      "55000/55000 [==============================] - 4s 68us/step - loss: 0.1770 - acc: 0.9355 - val_loss: 3.3478 - val_acc: 0.7784\n",
      "Epoch 7/15\n",
      "55000/55000 [==============================] - 4s 72us/step - loss: 0.1683 - acc: 0.9393 - val_loss: 4.1372 - val_acc: 0.7322\n",
      "Epoch 8/15\n",
      "55000/55000 [==============================] - 4s 73us/step - loss: 0.1606 - acc: 0.9418 - val_loss: 4.5019 - val_acc: 0.7096\n",
      "Epoch 9/15\n",
      "55000/55000 [==============================] - 4s 73us/step - loss: 0.1536 - acc: 0.9446 - val_loss: 4.0345 - val_acc: 0.7378\n",
      "Epoch 10/15\n",
      "55000/55000 [==============================] - 4s 69us/step - loss: 0.1461 - acc: 0.9462 - val_loss: 4.5692 - val_acc: 0.7070\n",
      "Epoch 11/15\n",
      "55000/55000 [==============================] - 4s 69us/step - loss: 0.1395 - acc: 0.9494 - val_loss: 4.1588 - val_acc: 0.7324\n",
      "Epoch 12/15\n",
      "55000/55000 [==============================] - 4s 73us/step - loss: 0.1326 - acc: 0.9522 - val_loss: 4.4740 - val_acc: 0.7120\n",
      "Epoch 13/15\n",
      "55000/55000 [==============================] - 4s 76us/step - loss: 0.1267 - acc: 0.9551 - val_loss: 4.1245 - val_acc: 0.7326\n",
      "Epoch 14/15\n",
      "55000/55000 [==============================] - 4s 67us/step - loss: 0.1205 - acc: 0.9571 - val_loss: 4.5312 - val_acc: 0.7094\n",
      "Epoch 15/15\n",
      "55000/55000 [==============================] - 4s 70us/step - loss: 0.1143 - acc: 0.9602 - val_loss: 4.6422 - val_acc: 0.7022\n"
     ]
    }
   ],
   "source": [
    "history1=model.fit(X_train, y_train, epochs=15, validation_data=(X_valid,y_valid))"
   ]
  },
  {
   "cell_type": "code",
   "execution_count": 54,
   "metadata": {},
   "outputs": [],
   "source": [
    "df1=pd.DataFrame(history1.history)"
   ]
  },
  {
   "cell_type": "code",
   "execution_count": 55,
   "metadata": {},
   "outputs": [
    {
     "data": {
      "image/png": "[encoded data removed]",
      "text/plain": [
       "<Figure size 576x576 with 1 Axes>"
      ]
     },
     "metadata": {
      "needs_background": "light"
     },
     "output_type": "display_data"
    }
   ],
   "source": [
    "plt.figure(figsize=(8,8))  #colonnes utilisées : loss and acc.\n",
    "df1['acc'].plot()\n",
    "df1['loss'].plot()\n",
    "plt.title(\"History graph\")\n",
    "plt.ylim(0, 1)\n",
    "plt.xlabel('')\n",
    "plt.ylabel('')\n",
    "plt.legend(loc='upper left')\n",
    "plt.show()"
   ]
  },
  {
   "cell_type": "markdown",
   "metadata": {},
   "source": [
    "## Exercice 4 – Les Callbacks"
   ]
  },
  {
   "cell_type": "markdown",
   "metadata": {},
   "source": [
    "### 4.1)\n",
    "La méthode `fit()` accepte un argument `callbacks`. Entrainer le modèle avec un grand nombre de `epoch` en y ajoutant les *callbacks* suvants (les callback proviennent de la librairie `keras.callbacks` et sont définis dans un tableau :\n",
    "* `EarlyStopping`: avec `patience=5` pour arrêter l'apprentissage dès que le modèle ne change plus (5 epoch de marge)\n",
    "* `ModelCheckpoint`: specifie le nom du modèle à enregistrer (exemple `\"mnist_fashion.h5\"`) avec `save_best_only=True` pour enregistrer le meilleur modèle obtenu.\n",
    "\n",
    "callbacks=\\[keras.callbacks.EarlyStopping......,\n",
    "    keras.callbacks........\\]<br/>\n",
    "history = model.fit(............,\n",
    "                    callbacks=callbacks)\n",
    "\n",
    "Le callback `EarlyStopping` permettra de réduire les risques de sur-apprentissage."
   ]
  },
  {
   "cell_type": "code",
   "execution_count": 112,
   "metadata": {},
   "outputs": [],
   "source": [
    "checkpoint_path=\"mnist_fashion.h5\"\n",
    "callbacks=[keras.callbacks.EarlyStopping(patience=5), keras.callbacks.ModelCheckpoint(checkpoint_path, save_best_only=True)]"
   ]
  },
  {
   "cell_type": "code",
   "execution_count": 113,
   "metadata": {},
   "outputs": [
    {
     "name": "stdout",
     "output_type": "stream",
     "text": [
      "Train on 55000 samples, validate on 5000 samples\n",
      "Epoch 1/15\n",
      "55000/55000 [==============================] - 3s 60us/step - loss: 0.5553 - acc: 0.8088 - val_loss: 4.7506 - val_acc: 0.6916\n",
      "Epoch 2/15\n",
      "55000/55000 [==============================] - 4s 67us/step - loss: 0.3951 - acc: 0.8588 - val_loss: 4.2034 - val_acc: 0.7276\n",
      "Epoch 3/15\n",
      "55000/55000 [==============================] - 4s 67us/step - loss: 0.3575 - acc: 0.8709 - val_loss: 3.7359 - val_acc: 0.7546\n",
      "Epoch 4/15\n",
      "55000/55000 [==============================] - 4s 66us/step - loss: 0.3328 - acc: 0.8809 - val_loss: 3.3569 - val_acc: 0.7790\n",
      "Epoch 5/15\n",
      "55000/55000 [==============================] - 4s 64us/step - loss: 0.3140 - acc: 0.8865 - val_loss: 3.5776 - val_acc: 0.7674\n",
      "Epoch 6/15\n",
      "55000/55000 [==============================] - 3s 62us/step - loss: 0.2978 - acc: 0.8931 - val_loss: 2.5173 - val_acc: 0.8338\n",
      "Epoch 7/15\n",
      "55000/55000 [==============================] - 3s 60us/step - loss: 0.2845 - acc: 0.8963 - val_loss: 3.2886 - val_acc: 0.7832\n",
      "Epoch 8/15\n",
      "55000/55000 [==============================] - 3s 61us/step - loss: 0.2712 - acc: 0.9020 - val_loss: 2.6424 - val_acc: 0.8248\n",
      "Epoch 9/15\n",
      "55000/55000 [==============================] - 3s 59us/step - loss: 0.2609 - acc: 0.9059 - val_loss: 2.9070 - val_acc: 0.8042\n",
      "Epoch 10/15\n",
      "55000/55000 [==============================] - 3s 61us/step - loss: 0.2501 - acc: 0.9102 - val_loss: 2.9694 - val_acc: 0.8048\n",
      "Epoch 11/15\n",
      "55000/55000 [==============================] - 3s 56us/step - loss: 0.2411 - acc: 0.9130 - val_loss: 2.7361 - val_acc: 0.8214\n"
     ]
    }
   ],
   "source": [
    "history = model.fit(X_train, y_train, epochs=15, validation_data=(X_valid,y_valid), callbacks=callbacks)"
   ]
  },
  {
   "cell_type": "code",
   "execution_count": null,
   "metadata": {},
   "outputs": [],
   "source": []
  },
  {
   "cell_type": "markdown",
   "metadata": {},
   "source": [
    "### 4.2)\n",
    "\n",
    "Grâce aux callbacks, le dernier modèle enregistré est le meilleur sur le jeu de validation.<br>\n",
    "Charger le modèle avec 'keras. Models. load_model () et l'évaluer sur l'ensemble de test."
   ]
  },
  {
   "cell_type": "code",
   "execution_count": 114,
   "metadata": {},
   "outputs": [
    {
     "data": {
      "text/plain": [
       "<tensorflow.python.keras.engine.sequential.Sequential at 0x19b19581ef0>"
      ]
     },
     "execution_count": 114,
     "metadata": {},
     "output_type": "execute_result"
    }
   ],
   "source": [
    "keras.models.load_model(\n",
    "    checkpoint_path,\n",
    "    custom_objects=None,\n",
    "    compile=True\n",
    ")"
   ]
  },
  {
   "cell_type": "code",
   "execution_count": 115,
   "metadata": {},
   "outputs": [
    {
     "name": "stdout",
     "output_type": "stream",
     "text": [
      "10000/10000 [==============================] - 0s 28us/step\n"
     ]
    },
    {
     "data": {
      "text/plain": [
       "(0.33852666087150574, 0.878)"
      ]
     },
     "execution_count": 115,
     "metadata": {},
     "output_type": "execute_result"
    }
   ],
   "source": [
    "test_loss, test_acc = model.evaluate(X_test, y_test)\n",
    "test_loss, test_acc"
   ]
  },
  {
   "cell_type": "code",
   "execution_count": null,
   "metadata": {},
   "outputs": [],
   "source": []
  },
  {
   "cell_type": "markdown",
   "metadata": {},
   "source": [
    "Une liste de callbacks est disponible sur https://keras.io/callbacks/"
   ]
  }
 ],
 "metadata": {
  "kernelspec": {
   "display_name": "Python 3",
   "language": "python",
   "name": "python3"
  },
  "language_info": {
   "codemirror_mode": {
    "name": "ipython",
    "version": 3
   },
   "file_extension": ".py",
   "mimetype": "text/x-python",
   "name": "python",
   "nbconvert_exporter": "python",
   "pygments_lexer": "ipython3",
   "version": "3.6.8"
  }
 },
 "nbformat": 4,
 "nbformat_minor": 2
}
